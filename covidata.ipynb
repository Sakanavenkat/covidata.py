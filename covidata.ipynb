{
 "cells": [
  {
   "cell_type": "code",
   "execution_count": 1,
   "id": "cc1e172b-3b9d-46d4-8918-6de1e164e1e5",
   "metadata": {},
   "outputs": [],
   "source": [
    "import numpy as np\n",
    "import matplotlib.pyplot as plt\n",
    "import pandas as pd"
   ]
  },
  {
   "cell_type": "code",
   "execution_count": 4,
   "id": "11a159db-1df2-4789-9575-382706f1af7b",
   "metadata": {},
   "outputs": [],
   "source": [
    "data_set = pd.read_csv(r\"C:\\Users\\DELL\\Downloads\\archive (3).zip\")\n",
    "X = data_set.iloc[:, :-1].values\n",
    "y = data_set.iloc[:, -1].values"
   ]
  },
  {
   "cell_type": "code",
   "execution_count": 5,
   "id": "9588ff29-9d33-4ffe-817c-fd397ad6eeb1",
   "metadata": {},
   "outputs": [
    {
     "name": "stdout",
     "output_type": "stream",
     "text": [
      "[[2 1 1 ... 2 2 3]\n",
      " [2 1 2 ... 1 2 5]\n",
      " [2 1 2 ... 2 2 3]\n",
      " ...\n",
      " [2 13 2 ... 2 2 7]\n",
      " [2 13 2 ... 2 2 7]\n",
      " [2 13 2 ... 2 2 7]]\n"
     ]
    }
   ],
   "source": [
    "print(X)"
   ]
  },
  {
   "cell_type": "code",
   "execution_count": 6,
   "id": "b2387e20-168a-4207-8b79-7c872ebe72f8",
   "metadata": {},
   "outputs": [
    {
     "name": "stdout",
     "output_type": "stream",
     "text": [
      "[97 97  2 ... 97 97 97]\n"
     ]
    }
   ],
   "source": [
    "print(y)"
   ]
  },
  {
   "cell_type": "code",
   "execution_count": 7,
   "id": "fdbe922c-2974-4482-bc8b-e2bdf5c3e2ef",
   "metadata": {},
   "outputs": [],
   "source": [
    "from sklearn.impute import SimpleImputer\n",
    "imputer = SimpleImputer(missing_values = np.nan, strategy = 'mean')\n",
    "\n",
    "imputer.fit(X[:, 0:1])\n",
    "X[: , 0:1] = imputer.transform(X[:, 0:1])"
   ]
  },
  {
   "cell_type": "code",
   "execution_count": 8,
   "id": "e91d7a27-b5f5-48df-9347-b06d7d798ad3",
   "metadata": {},
   "outputs": [
    {
     "name": "stdout",
     "output_type": "stream",
     "text": [
      "[[2.0 1 1 ... 2 2 3]\n",
      " [2.0 1 2 ... 1 2 5]\n",
      " [2.0 1 2 ... 2 2 3]\n",
      " ...\n",
      " [2.0 13 2 ... 2 2 7]\n",
      " [2.0 13 2 ... 2 2 7]\n",
      " [2.0 13 2 ... 2 2 7]]\n"
     ]
    }
   ],
   "source": [
    "print(X)"
   ]
  },
  {
   "cell_type": "code",
   "execution_count": 12,
   "id": "344a9cd4-569c-42ec-b56d-6209d8d33f11",
   "metadata": {},
   "outputs": [],
   "source": [
    "from sklearn.compose import ColumnTransformer\n",
    "from sklearn.preprocessing import OneHotEncoder"
   ]
  },
  {
   "cell_type": "code",
   "execution_count": 13,
   "id": "a6595526-2cd1-43d9-b062-82255aa674bc",
   "metadata": {},
   "outputs": [],
   "source": [
    "ct = ColumnTransformer(transformers=[('encoder',OneHotEncoder(), [1])], remainder= 'passthrough')\n",
    "X = np.array(ct.fit_transform(X))"
   ]
  },
  {
   "cell_type": "code",
   "execution_count": 14,
   "id": "bacb4653-354c-4f0a-bc62-b21bc1a4e6d9",
   "metadata": {},
   "outputs": [
    {
     "name": "stdout",
     "output_type": "stream",
     "text": [
      "[[1.0 0.0 0.0 ... 2 2 3]\n",
      " [1.0 0.0 0.0 ... 1 2 5]\n",
      " [1.0 0.0 0.0 ... 2 2 3]\n",
      " ...\n",
      " [0.0 0.0 0.0 ... 2 2 7]\n",
      " [0.0 0.0 0.0 ... 2 2 7]\n",
      " [0.0 0.0 0.0 ... 2 2 7]]\n"
     ]
    }
   ],
   "source": [
    "print(X)"
   ]
  },
  {
   "cell_type": "code",
   "execution_count": 15,
   "id": "8d840069-97f9-4428-93ed-bbbb32b71776",
   "metadata": {},
   "outputs": [],
   "source": [
    "from sklearn.preprocessing import LabelEncoder\n",
    "le = LabelEncoder()\n",
    "y = le.fit_transform(y)"
   ]
  },
  {
   "cell_type": "code",
   "execution_count": 16,
   "id": "67904323-ec5a-4185-8fbd-30ce6b22cf6c",
   "metadata": {},
   "outputs": [
    {
     "name": "stdout",
     "output_type": "stream",
     "text": [
      "[2 2 1 ... 2 2 2]\n"
     ]
    }
   ],
   "source": [
    "print(y)"
   ]
  },
  {
   "cell_type": "code",
   "execution_count": 17,
   "id": "77268c04-d565-45e6-a611-abdd92d43af1",
   "metadata": {},
   "outputs": [],
   "source": [
    "from sklearn.model_selection import train_test_split\n",
    "X_train, X_test, y_train, y_test = train_test_split(X, y, test_size = 0.2, random_state = 42)"
   ]
  },
  {
   "cell_type": "code",
   "execution_count": 18,
   "id": "a6446fcb-fbc1-4f61-9c42-5ff418c9bbe1",
   "metadata": {},
   "outputs": [
    {
     "name": "stdout",
     "output_type": "stream",
     "text": [
      "[[0.0 0.0 0.0 ... 2 1 5]\n",
      " [0.0 0.0 0.0 ... 2 2 3]\n",
      " [0.0 0.0 0.0 ... 2 2 6]\n",
      " ...\n",
      " [0.0 0.0 0.0 ... 2 1 3]\n",
      " [0.0 0.0 0.0 ... 2 2 5]\n",
      " [0.0 0.0 0.0 ... 2 2 3]]\n"
     ]
    }
   ],
   "source": [
    "print(X_train)"
   ]
  },
  {
   "cell_type": "code",
   "execution_count": 19,
   "id": "06650109-ec27-4d03-b9f0-2e22c102da3d",
   "metadata": {},
   "outputs": [
    {
     "name": "stdout",
     "output_type": "stream",
     "text": [
      "[[0.0 0.0 0.0 ... 2 2 7]\n",
      " [0.0 0.0 0.0 ... 2 2 7]\n",
      " [0.0 0.0 0.0 ... 2 2 7]\n",
      " ...\n",
      " [0.0 0.0 0.0 ... 2 1 7]\n",
      " [0.0 0.0 0.0 ... 2 2 3]\n",
      " [0.0 0.0 0.0 ... 2 2 3]]\n"
     ]
    }
   ],
   "source": [
    "print(X_test)"
   ]
  },
  {
   "cell_type": "code",
   "execution_count": 20,
   "id": "e387bf4a-3059-4bc3-ac98-29dbf46ade2d",
   "metadata": {},
   "outputs": [
    {
     "name": "stdout",
     "output_type": "stream",
     "text": [
      "[2 2 2 ... 2 2 2]\n"
     ]
    }
   ],
   "source": [
    "print(y_train)"
   ]
  },
  {
   "cell_type": "code",
   "execution_count": 21,
   "id": "b8c9b1e7-9717-4f81-9384-2c3610e6611f",
   "metadata": {},
   "outputs": [
    {
     "name": "stdout",
     "output_type": "stream",
     "text": [
      "[2 2 2 ... 2 2 2]\n"
     ]
    }
   ],
   "source": [
    "print(y_test)"
   ]
  }
 ],
 "metadata": {
  "kernelspec": {
   "display_name": "Python 3 (ipykernel)",
   "language": "python",
   "name": "python3"
  },
  "language_info": {
   "codemirror_mode": {
    "name": "ipython",
    "version": 3
   },
   "file_extension": ".py",
   "mimetype": "text/x-python",
   "name": "python",
   "nbconvert_exporter": "python",
   "pygments_lexer": "ipython3",
   "version": "3.12.7"
  }
 },
 "nbformat": 4,
 "nbformat_minor": 5
}
